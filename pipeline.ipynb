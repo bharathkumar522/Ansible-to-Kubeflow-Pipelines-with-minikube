{
 "cells": [
  {
   "cell_type": "code",
   "execution_count": 1,
   "metadata": {},
   "outputs": [],
   "source": [
    "# !pip install kfp==1.0.1 --user\n",
    "import kfp\n",
    "from kubernetes.client.models import V1EnvVar"
   ]
  },
  {
   "cell_type": "code",
   "execution_count": 2,
   "metadata": {},
   "outputs": [],
   "source": [
    "@kfp.dsl.component\n",
    "def my_component1():\n",
    "  ...\n",
    "  return kfp.dsl.ContainerOp(\n",
    "    name='component1',\n",
    "    image='mnistclassify:2.0'\n",
    "  )"
   ]
  },
  {
   "cell_type": "code",
   "execution_count": 3,
   "metadata": {},
   "outputs": [],
   "source": [
    "@kfp.dsl.component\n",
    "def my_component2():\n",
    "  ...\n",
    "  return kfp.dsl.ContainerOp(\n",
    "    name='component2',\n",
    "    image='mnistpredict:2.0'\n",
    "  )"
   ]
  },
  {
   "cell_type": "code",
   "execution_count": 4,
   "metadata": {},
   "outputs": [],
   "source": [
    "#Defining the pipeline that uses the above components.\n",
    "@kfp.dsl.pipeline(name='pipeline2', description='mnist tf model')\n",
    "def model_generation():\n",
    "    component1 = (my_component1()\n",
    "                  .add_env_variable(V1EnvVar(name = 'ip', value = 'X.X.X.X')) \n",
    "                  .add_env_variable(V1EnvVar(name = 'user', value = 'root' )) \n",
    "                  .add_env_variable(V1EnvVar(name = 'passwd', value = 'admin123' ))\n",
    "    )\n",
    "\n",
    "    component1.container.set_image_pull_policy(\"IfNotPresent\")\n",
    "    \n",
    "    component2 = my_component2().after(component1)\n",
    "    component2.container.set_image_pull_policy(\"IfNotPresent\")\n"
   ]
  },
  {
   "cell_type": "code",
   "execution_count": 5,
   "metadata": {},
   "outputs": [],
   "source": [
    "pipeline_func = model_generation\n",
    "pipeline_filename = pipeline_func.__name__ + '.pipeline2.zip'\n",
    "\n",
    "#Compile the pipeline and export it\n",
    "kfp.compiler.Compiler().compile(model_generation,\n",
    "                           pipeline_filename)"
   ]
  }
 ],
 "metadata": {
  "kernelspec": {
   "display_name": "Python 3",
   "language": "python",
   "name": "python3"
  },
  "language_info": {
   "codemirror_mode": {
    "name": "ipython",
    "version": 3
   },
   "file_extension": ".py",
   "mimetype": "text/x-python",
   "name": "python",
   "nbconvert_exporter": "python",
   "pygments_lexer": "ipython3",
   "version": "3.6.9"
  }
 },
 "nbformat": 4,
 "nbformat_minor": 4
}
